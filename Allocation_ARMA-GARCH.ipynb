{
 "cells": [
  {
   "cell_type": "code",
   "execution_count": 8,
   "metadata": {},
   "outputs": [],
   "source": [
    "import warnings\n",
    "warnings.filterwarnings('ignore')"
   ]
  },
  {
   "cell_type": "code",
   "execution_count": 108,
   "metadata": {
    "id": "_Fy1sgHd_SVN"
   },
   "outputs": [],
   "source": [
    "import pandas as pd\n",
    "import statsmodels.api as sm\n",
    "import numpy as np\n",
    "from arch import arch_model\n",
    "import pmdarima as pm\n",
    "import matplotlib.pyplot as plt\n",
    "from statsmodels.stats.diagnostic import acorr_ljungbox\n",
    "from scipy.optimize import minimize"
   ]
  },
  {
   "cell_type": "code",
   "execution_count": 39,
   "metadata": {
    "id": "2puqgCzBxAjl"
   },
   "outputs": [],
   "source": [
    "df = pd.read_csv('price_data.csv')\n",
    "df = df.fillna(40.302841)\n",
    "df = df.set_index('Date',drop = True).astype('float')\n",
    "df.index = pd.to_datetime(df.index)\n",
    "pct_change = df.apply(lambda x: x.pct_change()).iloc[1:,:]\n",
    "pct_change = pct_change.iloc[:,0:5] "
   ]
  },
  {
   "cell_type": "code",
   "execution_count": 40,
   "metadata": {},
   "outputs": [
    {
     "data": {
      "text/plain": [
       "Index(['MMM', 'AXP', 'AAPL', 'BA', 'CAT'], dtype='object')"
      ]
     },
     "execution_count": 40,
     "metadata": {},
     "output_type": "execute_result"
    }
   ],
   "source": [
    "#The stocks\n",
    "pct_change.columns"
   ]
  },
  {
   "cell_type": "markdown",
   "metadata": {},
   "source": [
    "### Check Stationary"
   ]
  },
  {
   "cell_type": "code",
   "execution_count": 41,
   "metadata": {},
   "outputs": [
    {
     "data": {
      "image/png": "[encoded data removed]",
      "text/plain": [
       "<Figure size 432x288 with 1 Axes>"
      ]
     },
     "metadata": {
      "needs_background": "light"
     },
     "output_type": "display_data"
    }
   ],
   "source": [
    "for column in pct_change.columns:\n",
    "    plt.plot(pct_change[column], label=column)\n",
    "\n",
    "# Set the plot title and labels\n",
    "plt.title('Returns')\n",
    "plt.xlabel('Time')\n",
    "plt.ylabel('Returns')\n",
    "\n",
    "# Display the legend\n",
    "plt.legend()\n",
    "\n",
    "# Show the plot\n",
    "plt.show()"
   ]
  },
  {
   "cell_type": "code",
   "execution_count": 42,
   "metadata": {
    "id": "cmw9Gz0mxPHB"
   },
   "outputs": [],
   "source": [
    "train = pct_change[pct_change.index.year < 2021]\n",
    "test = pct_change[pct_change.index.year >= 2021]"
   ]
  },
  {
   "cell_type": "code",
   "execution_count": 43,
   "metadata": {
    "id": "sczlUSZ1yG4_"
   },
   "outputs": [
    {
     "name": "stdout",
     "output_type": "stream",
     "text": [
      "length of training set: 755\n",
      "length of testing set: 580\n"
     ]
    }
   ],
   "source": [
    "print(\"length of training set:\",len(train))\n",
    "print(\"length of testing set:\",len(test))"
   ]
  },
  {
   "cell_type": "markdown",
   "metadata": {},
   "source": [
    "### Mean Modelling of Stocks Return"
   ]
  },
  {
   "cell_type": "code",
   "execution_count": 96,
   "metadata": {
    "scrolled": false
   },
   "outputs": [
    {
     "name": "stdout",
     "output_type": "stream",
     "text": [
      "AR and MA orders: 0 1\n",
      "                               SARIMAX Results                                \n",
      "==============================================================================\n",
      "Dep. Variable:                    MMM   No. Observations:                  755\n",
      "Model:                 ARIMA(0, 0, 1)   Log Likelihood                1941.723\n",
      "Date:                Tue, 16 May 2023   AIC                          -3877.447\n",
      "Time:                        16:35:37   BIC                          -3863.567\n",
      "Sample:                             0   HQIC                         -3872.100\n",
      "                                - 755                                         \n",
      "Covariance Type:                  opg                                         \n",
      "==============================================================================\n",
      "                 coef    std err          z      P>|z|      [0.025      0.975]\n",
      "------------------------------------------------------------------------------\n",
      "const      -9.849e-05      0.001     -0.144      0.886      -0.001       0.001\n",
      "ma.L1         -0.0553      0.024     -2.320      0.020      -0.102      -0.009\n",
      "sigma2         0.0003   8.29e-06     41.226      0.000       0.000       0.000\n",
      "===================================================================================\n",
      "Ljung-Box (L1) (Q):                   0.00   Jarque-Bera (JB):              2209.30\n",
      "Prob(Q):                              0.98   Prob(JB):                         0.00\n",
      "Heteroskedasticity (H):               2.34   Skew:                            -0.64\n",
      "Prob(H) (two-sided):                  0.00   Kurtosis:                        11.28\n",
      "===================================================================================\n",
      "\n",
      "Warnings:\n",
      "[1] Covariance matrix calculated using the outer product of gradients (complex-step).\n",
      "Iteration:      1,   Func. Count:      6,   Neg. LLF: 3285806216.3348837\n",
      "Iteration:      2,   Func. Count:     18,   Neg. LLF: 1006044.9286363234\n",
      "Iteration:      3,   Func. Count:     28,   Neg. LLF: 402555.9219021562\n",
      "Iteration:      4,   Func. Count:     38,   Neg. LLF: 1028166511276.1383\n",
      "Iteration:      5,   Func. Count:     50,   Neg. LLF: 1189.6556589336496\n",
      "Iteration:      6,   Func. Count:     59,   Neg. LLF: 949819.7067784418\n",
      "Iteration:      7,   Func. Count:     69,   Neg. LLF: -1955.3241189973464\n",
      "Iteration:      8,   Func. Count:     76,   Neg. LLF: -1785.7859562651201\n",
      "Iteration:      9,   Func. Count:     84,   Neg. LLF: -1871.4701919342367\n",
      "Iteration:     10,   Func. Count:     90,   Neg. LLF: -1990.7595774711413\n",
      "Iteration:     11,   Func. Count:     96,   Neg. LLF: -1996.8600402406478\n",
      "Iteration:     12,   Func. Count:    101,   Neg. LLF: -1996.8638708494482\n",
      "Iteration:     13,   Func. Count:    106,   Neg. LLF: -1996.8637548388908\n",
      "Optimization terminated successfully    (Exit mode 0)\n",
      "            Current function value: -1996.8638708488163\n",
      "            Iterations: 14\n",
      "            Function evaluations: 116\n",
      "            Gradient evaluations: 13\n",
      "AR and MA orders: 0 1\n",
      "                               SARIMAX Results                                \n",
      "==============================================================================\n",
      "Dep. Variable:                    AXP   No. Observations:                  755\n",
      "Model:                 ARIMA(0, 0, 1)   Log Likelihood                1697.477\n",
      "Date:                Tue, 16 May 2023   AIC                          -3388.953\n",
      "Time:                        16:35:40   BIC                          -3375.073\n",
      "Sample:                             0   HQIC                         -3383.607\n",
      "                                - 755                                         \n",
      "Covariance Type:                  opg                                         \n",
      "==============================================================================\n",
      "                 coef    std err          z      P>|z|      [0.025      0.975]\n",
      "------------------------------------------------------------------------------\n",
      "const          0.0006      0.001      0.731      0.465      -0.001       0.002\n",
      "ma.L1         -0.1063      0.015     -7.039      0.000      -0.136      -0.077\n",
      "sigma2         0.0007   1.14e-05     57.047      0.000       0.001       0.001\n",
      "===================================================================================\n",
      "Ljung-Box (L1) (Q):                   0.01   Jarque-Bera (JB):             12058.91\n",
      "Prob(Q):                              0.92   Prob(JB):                         0.00\n",
      "Heteroskedasticity (H):               6.88   Skew:                             1.48\n",
      "Prob(H) (two-sided):                  0.00   Kurtosis:                        22.36\n",
      "===================================================================================\n",
      "\n",
      "Warnings:\n",
      "[1] Covariance matrix calculated using the outer product of gradients (complex-step).\n",
      "Iteration:      1,   Func. Count:      6,   Neg. LLF: 3.1041214704859812e+16\n",
      "Iteration:      2,   Func. Count:     18,   Neg. LLF: 135854177.17582667\n",
      "Iteration:      3,   Func. Count:     30,   Neg. LLF: 21677.65398797864\n",
      "Optimization terminated successfully    (Exit mode 0)\n",
      "            Current function value: -1981.4622325857345\n",
      "            Iterations: 3\n",
      "            Function evaluations: 37\n",
      "            Gradient evaluations: 3\n",
      "AR and MA orders: 0 1\n",
      "                               SARIMAX Results                                \n",
      "==============================================================================\n",
      "Dep. Variable:                   AAPL   No. Observations:                  755\n",
      "Model:                 ARIMA(0, 0, 1)   Log Likelihood                1816.303\n",
      "Date:                Tue, 16 May 2023   AIC                          -3626.606\n",
      "Time:                        16:35:43   BIC                          -3612.725\n",
      "Sample:                             0   HQIC                         -3621.259\n",
      "                                - 755                                         \n",
      "Covariance Type:                  opg                                         \n",
      "==============================================================================\n",
      "                 coef    std err          z      P>|z|      [0.025      0.975]\n",
      "------------------------------------------------------------------------------\n",
      "const          0.0018      0.001      2.609      0.009       0.000       0.003\n",
      "ma.L1         -0.1581      0.024     -6.621      0.000      -0.205      -0.111\n",
      "sigma2         0.0005   1.39e-05     34.176      0.000       0.000       0.001\n",
      "===================================================================================\n",
      "Ljung-Box (L1) (Q):                   0.00   Jarque-Bera (JB):               752.24\n",
      "Prob(Q):                              0.99   Prob(JB):                         0.00\n",
      "Heteroskedasticity (H):               2.13   Skew:                            -0.24\n",
      "Prob(H) (two-sided):                  0.00   Kurtosis:                         7.87\n",
      "===================================================================================\n",
      "\n",
      "Warnings:\n",
      "[1] Covariance matrix calculated using the outer product of gradients (complex-step).\n",
      "Iteration:      1,   Func. Count:      6,   Neg. LLF: 22270238655.208984\n",
      "Iteration:      2,   Func. Count:     18,   Neg. LLF: 196887195.84259176\n",
      "Iteration:      3,   Func. Count:     31,   Neg. LLF: 840325084.2327762\n",
      "Optimization terminated successfully    (Exit mode 0)\n",
      "            Current function value: -1913.4542586155524\n",
      "            Iterations: 3\n",
      "            Function evaluations: 40\n",
      "            Gradient evaluations: 3\n",
      "AR and MA orders: 0 1\n",
      "                               SARIMAX Results                                \n",
      "==============================================================================\n",
      "Dep. Variable:                     BA   No. Observations:                  755\n",
      "Model:                 ARIMA(0, 0, 1)   Log Likelihood                1454.379\n",
      "Date:                Tue, 16 May 2023   AIC                          -2902.758\n",
      "Time:                        16:35:46   BIC                          -2888.878\n",
      "Sample:                             0   HQIC                         -2897.411\n",
      "                                - 755                                         \n",
      "Covariance Type:                  opg                                         \n",
      "==============================================================================\n",
      "                 coef    std err          z      P>|z|      [0.025      0.975]\n",
      "------------------------------------------------------------------------------\n",
      "const          0.0003      0.001      0.178      0.859      -0.003       0.003\n",
      "ma.L1          0.0789      0.015      5.269      0.000       0.050       0.108\n",
      "sigma2         0.0012   2.43e-05     51.190      0.000       0.001       0.001\n",
      "===================================================================================\n",
      "Ljung-Box (L1) (Q):                   0.11   Jarque-Bera (JB):              4625.15\n",
      "Prob(Q):                              0.75   Prob(JB):                         0.00\n",
      "Heteroskedasticity (H):               7.50   Skew:                             0.19\n",
      "Prob(H) (two-sided):                  0.00   Kurtosis:                        15.12\n",
      "===================================================================================\n",
      "\n",
      "Warnings:\n",
      "[1] Covariance matrix calculated using the outer product of gradients (complex-step).\n",
      "Iteration:      1,   Func. Count:      6,   Neg. LLF: 4751304.87058821\n",
      "Iteration:      2,   Func. Count:     17,   Neg. LLF: 215223.2601808643\n",
      "Iteration:      3,   Func. Count:     29,   Neg. LLF: 1.851232708369956e+16\n",
      "Iteration:      4,   Func. Count:     40,   Neg. LLF: 5192170834757274.0\n",
      "Iteration:      5,   Func. Count:     50,   Neg. LLF: -1705.8475463529091\n",
      "Optimization terminated successfully    (Exit mode 0)\n",
      "            Current function value: -1705.8475533583487\n",
      "            Iterations: 9\n",
      "            Function evaluations: 50\n",
      "            Gradient evaluations: 5\n"
     ]
    },
    {
     "name": "stdout",
     "output_type": "stream",
     "text": [
      "AR and MA orders: 0 1\n",
      "                               SARIMAX Results                                \n",
      "==============================================================================\n",
      "Dep. Variable:                    CAT   No. Observations:                  755\n",
      "Model:                 ARIMA(0, 0, 1)   Log Likelihood                1797.397\n",
      "Date:                Tue, 16 May 2023   AIC                          -3588.794\n",
      "Time:                        16:35:49   BIC                          -3574.913\n",
      "Sample:                             0   HQIC                         -3583.447\n",
      "                                - 755                                         \n",
      "Covariance Type:                  opg                                         \n",
      "==============================================================================\n",
      "                 coef    std err          z      P>|z|      [0.025      0.975]\n",
      "------------------------------------------------------------------------------\n",
      "const          0.0005      0.001      0.687      0.492      -0.001       0.002\n",
      "ma.L1         -0.0556      0.027     -2.042      0.041      -0.109      -0.002\n",
      "sigma2         0.0005   1.53e-05     32.821      0.000       0.000       0.001\n",
      "===================================================================================\n",
      "Ljung-Box (L1) (Q):                   0.00   Jarque-Bera (JB):               559.50\n",
      "Prob(Q):                              1.00   Prob(JB):                         0.00\n",
      "Heteroskedasticity (H):               1.83   Skew:                            -0.56\n",
      "Prob(H) (two-sided):                  0.00   Kurtosis:                         7.07\n",
      "===================================================================================\n",
      "\n",
      "Warnings:\n",
      "[1] Covariance matrix calculated using the outer product of gradients (complex-step).\n",
      "Iteration:      1,   Func. Count:      6,   Neg. LLF: 608063300.7705956\n",
      "Iteration:      2,   Func. Count:     18,   Neg. LLF: 2030393.9748539305\n",
      "Iteration:      3,   Func. Count:     31,   Neg. LLF: 35585.689087920066\n",
      "Iteration:      4,   Func. Count:     41,   Neg. LLF: -1871.072778884581\n",
      "Optimization terminated successfully    (Exit mode 0)\n",
      "            Current function value: -1871.0727773259728\n",
      "            Iterations: 8\n",
      "            Function evaluations: 41\n",
      "            Gradient evaluations: 4\n"
     ]
    },
    {
     "data": {
      "image/png": "[encoded data removed]",
      "text/plain": [
       "<Figure size 432x288 with 1 Axes>"
      ]
     },
     "metadata": {
      "needs_background": "light"
     },
     "output_type": "display_data"
    },
    {
     "data": {
      "image/png": "[encoded data removed]",
      "text/plain": [
       "<Figure size 432x288 with 1 Axes>"
      ]
     },
     "metadata": {
      "needs_background": "light"
     },
     "output_type": "display_data"
    },
    {
     "data": {
      "image/png": "[encoded data removed]",
      "text/plain": [
       "<Figure size 432x288 with 1 Axes>"
      ]
     },
     "metadata": {
      "needs_background": "light"
     },
     "output_type": "display_data"
    },
    {
     "data": {
      "image/png": "[encoded data removed]",
      "text/plain": [
       "<Figure size 432x288 with 1 Axes>"
      ]
     },
     "metadata": {
      "needs_background": "light"
     },
     "output_type": "display_data"
    },
    {
     "data": {
      "image/png": "[encoded data removed]",
      "text/plain": [
       "<Figure size 432x288 with 1 Axes>"
      ]
     },
     "metadata": {
      "needs_background": "light"
     },
     "output_type": "display_data"
    }
   ],
   "source": [
    "arma_forecasts = pd.DataFrame()\n",
    "garch_forecasts = pd.DataFrame()\n",
    "\n",
    "\n",
    "for stock in train.columns:\n",
    "    train_returns = train[stock]\n",
    "    test_returns = test[stock]\n",
    "    # ARIMA\n",
    "    order = sm.tsa.arma_order_select_ic(returns, ic='aic')['aic_min_order']\n",
    "    ar_order, ma_order = order[0], order[1]\n",
    "    print('AR and MA orders:',ar_order, ma_order)\n",
    "\n",
    "    arma_model = sm.tsa.ARIMA(train_returns, order=(ar_order, 0, ma_order))\n",
    "    arma_result = arma_model.fit()\n",
    "    print(arma_result.summary())\n",
    "\n",
    "    # Residual analysis\n",
    "    residuals = arma_result.resid\n",
    "\n",
    "    # Residual correlogram\n",
    "    sm.graphics.tsa.plot_acf(residuals, lags=20)\n",
    "    \n",
    "    # Step 4: Compute ARMA residuals on the train set\n",
    "    arma_residuals = arma_result.resid\n",
    "\n",
    "    # Step 5: Estimate multivariate GARCH model on the train set\n",
    "    garch_model = arch_model(arma_residuals, vol='Garch', p=1, q=1)\n",
    "    garch_result = garch_model.fit()\n",
    "\n",
    "    # Step 6: Generate forecasts on the test set\n",
    "    arma_forecast = arma_result.forecast(steps=1).tolist()\n",
    "    garch_forecast = np.sqrt(garch_result.forecast(horizon=1).variance.values[-1, :])\n",
    "    \n",
    "    arma_forecasts[stock] = arma_forecast\n",
    "    garch_forecasts[stock] = garch_forecast\n"
   ]
  },
  {
   "cell_type": "code",
   "execution_count": 97,
   "metadata": {},
   "outputs": [
    {
     "name": "stdout",
     "output_type": "stream",
     "text": [
      "        MMM       AXP      AAPL        BA       CAT\n",
      "0 -0.000324 -0.000717  0.003582 -0.000728 -0.000087\n"
     ]
    }
   ],
   "source": [
    "print(arma_forecasts)"
   ]
  },
  {
   "cell_type": "code",
   "execution_count": 98,
   "metadata": {},
   "outputs": [
    {
     "name": "stdout",
     "output_type": "stream",
     "text": [
      "        MMM      AXP      AAPL        BA       CAT\n",
      "0  0.014144  0.01308  0.018266  0.020216  0.014865\n"
     ]
    }
   ],
   "source": [
    "print(garch_forecasts)"
   ]
  },
  {
   "cell_type": "markdown",
   "metadata": {},
   "source": [
    "### Compute evaluation metrics to assess the accuracy of the forecasts. "
   ]
  },
  {
   "cell_type": "code",
   "execution_count": 99,
   "metadata": {},
   "outputs": [
    {
     "data": {
      "text/plain": [
       "MMM     0.014960\n",
       "AXP     0.020199\n",
       "AAPL    0.018896\n",
       "BA      0.025361\n",
       "CAT     0.018690\n",
       "dtype: float64"
      ]
     },
     "execution_count": 99,
     "metadata": {},
     "output_type": "execute_result"
    }
   ],
   "source": [
    "actual_vol = np.sqrt(np.mean(test ** 2))\n",
    "actual_vol"
   ]
  },
  {
   "cell_type": "code",
   "execution_count": 104,
   "metadata": {},
   "outputs": [
    {
     "data": {
      "text/plain": [
       "MMM    -0.016706\n",
       "AXP    -0.023737\n",
       "AAPL   -0.024719\n",
       "BA     -0.052976\n",
       "CAT     0.000714\n",
       "Name: 2021-01-04 00:00:00, dtype: float64"
      ]
     },
     "execution_count": 104,
     "metadata": {},
     "output_type": "execute_result"
    }
   ],
   "source": [
    "actual_returns = test.iloc[0]\n",
    "actual_returns"
   ]
  },
  {
   "cell_type": "code",
   "execution_count": 106,
   "metadata": {},
   "outputs": [],
   "source": [
    "def evaluate_forecasts(actual, forecasts):\n",
    "    mae = np.mean(np.abs(forecasts - actual))\n",
    "    rmse = np.sqrt(np.mean((forecasts - actual) ** 2))\n",
    "    return mae, rmse\n",
    "\n",
    "arma_mae, arma_rmse = evaluate_forecasts(actual_returns, arma_forecasts)\n",
    "garch_mae, garch_rmse = evaluate_forecasts(actual_vol, garch_forecasts)"
   ]
  },
  {
   "cell_type": "code",
   "execution_count": 107,
   "metadata": {},
   "outputs": [
    {
     "name": "stdout",
     "output_type": "stream",
     "text": [
      "ARMA Evaluation Metrics:\n",
      "MAE: MMM     0.016382\n",
      "AXP     0.023019\n",
      "AAPL    0.028301\n",
      "BA      0.052248\n",
      "CAT     0.000801\n",
      "dtype: float64\n",
      "RMSE: MMM     0.016382\n",
      "AXP     0.023019\n",
      "AAPL    0.028301\n",
      "BA      0.052248\n",
      "CAT     0.000801\n",
      "dtype: float64\n",
      "GARCH Evaluation Metrics:\n",
      "MAE: MMM     0.000816\n",
      "AXP     0.007118\n",
      "AAPL    0.000629\n",
      "BA      0.005145\n",
      "CAT     0.003825\n",
      "dtype: float64\n",
      "RMSE: MMM     0.000816\n",
      "AXP     0.007118\n",
      "AAPL    0.000629\n",
      "BA      0.005145\n",
      "CAT     0.003825\n",
      "dtype: float64\n"
     ]
    }
   ],
   "source": [
    "print(\"ARMA Evaluation Metrics:\")\n",
    "print(\"MAE:\", arma_mae)\n",
    "print(\"RMSE:\", arma_rmse)\n",
    "\n",
    "print(\"GARCH Evaluation Metrics:\")\n",
    "print(\"MAE:\", garch_mae)\n",
    "print(\"RMSE:\", garch_rmse)\n"
   ]
  },
  {
   "cell_type": "code",
   "execution_count": 242,
   "metadata": {},
   "outputs": [],
   "source": [
    "expected_returns = arma_forecasts.T.values\n",
    "covariance_matrix = garch_forecasts.T@garch_forecasts.values\n",
    "\n",
    "sample_mean = train.mean().values.reshape((5,1))\n",
    "sample_cov = train.cov().values"
   ]
  },
  {
   "cell_type": "code",
   "execution_count": 243,
   "metadata": {},
   "outputs": [],
   "source": [
    "target = 0.3/12\n",
    "r = 0.002"
   ]
  },
  {
   "cell_type": "code",
   "execution_count": 254,
   "metadata": {},
   "outputs": [],
   "source": [
    "def constrainedMV(d,sigma,mu):\n",
    "    initial_weight = np.abs(np.random.randn(d))\n",
    "    x0 = initial_weight/np.sum(initial_weight)\n",
    "    x0 = x0.reshape((5,1))\n",
    "    cons = ({'type': 'eq', 'fun': lambda x: r + np.dot(x,mu-r) - target },\n",
    "            {'type': 'ineq', 'fun': lambda x:x },\n",
    "            {'type': 'eq', 'fun': lambda x: 1-np.sum(x)})\n",
    "\n",
    "    res = minimize(func, x0,args = (sigma),constraints=cons )\n",
    "    return np.array(res.x)\n",
    "\n",
    "def func(x,sigma):\n",
    "    return np.dot(np.dot(x,sigma),x)"
   ]
  },
  {
   "cell_type": "code",
   "execution_count": 255,
   "metadata": {},
   "outputs": [],
   "source": [
    "def mean_variance(expected_returns,covariance_matrix):\n",
    "    mu = expected_returns\n",
    "    sigma = covariance_matrix\n",
    "    aa = constrainedMV(5,sigma,mu)\n",
    "\n",
    "    return aa"
   ]
  },
  {
   "cell_type": "code",
   "execution_count": 260,
   "metadata": {},
   "outputs": [],
   "source": [
    "# Perform portfolio optimization using ARMA-GARCH estimates\n",
    "ts_AA  = mean_variance(expected_returns,covariance_matrix).reshape((5,1))\n",
    "\n",
    "# Perform portfolio optimization using sample mean and variance\n",
    "sample_AA  = mean_variance(sample_mean,sample_cov).reshape((5,1))"
   ]
  },
  {
   "cell_type": "code",
   "execution_count": 264,
   "metadata": {},
   "outputs": [],
   "source": [
    "# Calculate the one-step ahead optimized portfolio returns\n",
    "arma_optimized_portfolio_returns = np.dot(expected_returns.T, ts_AA)\n",
    "sample_optimized_portfolio_returns = np.dot(sample_mean.T, sample_AA)\n",
    "\n",
    "# Calculate the one-step ahead optimized portfolio variance using ARMA-GARCH covariance matrix\n",
    "arma_optimized_portfolio_variance = np.dot(ts_AA.T, np.dot(covariance_matrix, ts_AA))\n",
    "\n",
    "# Calculate the one-step ahead optimized portfolio variance using sample covariance matrix\n",
    "sample_optimized_portfolio_variance = np.dot(sample_AA.T, np.dot(sample_cov, sample_AA))\n",
    "\n",
    "# Calculate the one-step ahead optimized portfolio standard deviation\n",
    "arma_optimized_portfolio_std_dev = np.sqrt(arma_optimized_portfolio_variance)\n",
    "sample_optimized_portfolio_std_dev = np.sqrt(sample_optimized_portfolio_variance)\n"
   ]
  },
  {
   "cell_type": "code",
   "execution_count": 266,
   "metadata": {},
   "outputs": [
    {
     "name": "stdout",
     "output_type": "stream",
     "text": [
      "ARMA-GARCH Model:\n",
      "Optimized Weights: [[-1.72297130e-13]\n",
      " [-7.62613709e-13]\n",
      " [ 1.00000000e+00]\n",
      " [-3.37573804e-13]\n",
      " [-1.54301882e-13]]\n",
      "Expected Return: 0.0035816046125769388\n",
      "Standard Deviation: [[0.0182664]]\n",
      "\n",
      "Sample Mean-Variance Model:\n",
      "Optimized Weights: [[-2.58019831e-13]\n",
      " [-1.15407236e-13]\n",
      " [ 1.00000000e+00]\n",
      " [-2.36905116e-14]\n",
      " [-1.20097656e-13]]\n",
      "Expected Return: 0.0017872197399597185\n",
      "Standard Deviation: [[0.02211245]]\n"
     ]
    }
   ],
   "source": [
    "# Print the results\n",
    "print(\"ARMA-GARCH Model:\")\n",
    "print(\"Optimized Weights:\", ts_AA)\n",
    "print(\"Expected Return:\", np.mean(arma_optimized_portfolio_returns))\n",
    "print(\"Standard Deviation:\", arma_optimized_portfolio_std_dev)\n",
    "print()\n",
    "print(\"Sample Mean-Variance Model:\")\n",
    "print(\"Optimized Weights:\", sample_AA)\n",
    "print(\"Expected Return:\", np.mean(sample_optimized_portfolio_returns))\n",
    "print(\"Standard Deviation:\", sample_optimized_portfolio_std_dev)"
   ]
  },
  {
   "cell_type": "code",
   "execution_count": null,
   "metadata": {},
   "outputs": [],
   "source": []
  }
 ],
 "metadata": {
  "colab": {
   "provenance": []
  },
  "kernelspec": {
   "display_name": "Python 3 (ipykernel)",
   "language": "python",
   "name": "python3"
  },
  "language_info": {
   "codemirror_mode": {
    "name": "ipython",
    "version": 3
   },
   "file_extension": ".py",
   "mimetype": "text/x-python",
   "name": "python",
   "nbconvert_exporter": "python",
   "pygments_lexer": "ipython3",
   "version": "3.9.7"
  }
 },
 "nbformat": 4,
 "nbformat_minor": 1
}
